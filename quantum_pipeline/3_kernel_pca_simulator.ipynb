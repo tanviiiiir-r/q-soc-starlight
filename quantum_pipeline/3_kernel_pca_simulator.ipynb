{
 "cells": [
  {
   "cell_type": "code",
   "execution_count": null,
   "id": "9f9b79ab",
   "metadata": {
    "vscode": {
     "languageId": "plaintext"
    }
   },
   "outputs": [],
   "source": [
    "import numpy as np\n",
    "import pandas as pd\n",
    "import matplotlib.pyplot as plt\n",
    "from sklearn.decomposition import KernelPCA\n",
    "from qiskit.circuit.library import ZZFeatureMap\n",
    "from qiskit_machine_learning.kernels import FidelityQuantumKernel\n",
    "from qiskit.utils import algorithm_globals\n",
    "from qiskit import Aer\n",
    "from qiskit.primitives import Sampler\n",
    "\n",
    "# Load quantum-encoded data\n",
    "X = np.loadtxt(\"../datasets/quantum/quantum_encoded_features.csv\", delimiter=\",\")\n",
    "y = pd.read_csv(\"../datasets/quantum/quantum_labels.csv\")[\"label\"].values\n",
    "\n",
    "# Use subset for fast testing\n",
    "X = X[:, :3]\n",
    "\n",
    "# Define quantum feature map\n",
    "feature_map = ZZFeatureMap(feature_dimension=3, reps=1)\n",
    "\n",
    "# Use simulator for kernel eval\n",
    "sampler = Sampler()\n",
    "sampler.set_options(default_backend=Aer.get_backend(\"aer_simulator_statevector\"))\n",
    "qkernel = FidelityQuantumKernel(feature_map=feature_map, sampler=sampler)\n",
    "\n",
    "kernel_matrix = qkernel.evaluate(x_vec=X)\n",
    "\n",
    "# Quantum PCA\n",
    "kpca = KernelPCA(kernel=\"precomputed\", n_components=3)\n",
    "X_kpca = kpca.fit_transform(kernel_matrix)\n",
    "\n",
    "# Plot projection\n",
    "fig = plt.figure()\n",
    "ax = fig.add_subplot(111, projection=\"3d\")\n",
    "ax.scatter(X_kpca[:, 0], X_kpca[:, 1], X_kpca[:, 2], c=y, cmap=\"coolwarm\", alpha=0.7)\n",
    "plt.title(\"Quantum PCA - Simulator\")\n",
    "plt.savefig(\"../architecture/quantum_pca_simulator.png\")\n",
    "\n",
    "print(\"✅ Quantum PCA (simulator) complete\")\n"
   ]
  }
 ],
 "metadata": {
  "language_info": {
   "name": "python"
  }
 },
 "nbformat": 4,
 "nbformat_minor": 5
}
