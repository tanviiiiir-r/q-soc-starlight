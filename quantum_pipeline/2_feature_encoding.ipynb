{
 "cells": [
  {
   "cell_type": "code",
   "execution_count": null,
   "id": "09c0dafe",
   "metadata": {
    "vscode": {
     "languageId": "plaintext"
    }
   },
   "outputs": [],
   "source": [
    "# === Quantum Feature Encoding ===\n",
    "import pandas as pd\n",
    "import numpy as np\n",
    "\n",
    "# Load labeled Wazuh logs\n",
    "df = pd.read_csv(\"../datasets/logs/labeled_logs.csv\")\n",
    "\n",
    "# Select useful features for encoding\n",
    "features = df[['src_port', 'dst_port', 'protocol', 'log_level']]  # example\n",
    "labels = df['label'].map({'benign': 0, 'attack': 1})\n",
    "\n",
    "# One-hot encode categorical data + normalize\n",
    "X = pd.get_dummies(features).to_numpy()\n",
    "X = X / np.max(X)\n",
    "\n",
    "# Angle-encode (0 to π)\n",
    "X_encoded = np.pi * X\n",
    "\n",
    "# Save\n",
    "np.savetxt(\"../datasets/quantum/quantum_encoded_features.csv\", X_encoded, delimiter=\",\")\n",
    "labels.to_csv(\"../datasets/quantum/quantum_labels.csv\", index=False)\n",
    "\n",
    "print(\"✅ Encoded features saved.\")\n"
   ]
  }
 ],
 "metadata": {
  "language_info": {
   "name": "python"
  }
 },
 "nbformat": 4,
 "nbformat_minor": 5
}
